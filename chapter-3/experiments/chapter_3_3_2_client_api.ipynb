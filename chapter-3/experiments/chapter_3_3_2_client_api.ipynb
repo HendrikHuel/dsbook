{
 "cells": [
  {
   "cell_type": "code",
   "execution_count": 1,
   "id": "initial_id",
   "metadata": {
    "collapsed": true,
    "ExecuteTime": {
     "end_time": "2023-09-29T09:49:03.157837Z",
     "start_time": "2023-09-29T09:49:03.148562Z"
    }
   },
   "outputs": [],
   "source": [
    "%load_ext autoreload\n",
    "%autoreload 2"
   ]
  },
  {
   "cell_type": "code",
   "execution_count": 2,
   "outputs": [],
   "source": [
    "from metaflow import Flow"
   ],
   "metadata": {
    "collapsed": false,
    "ExecuteTime": {
     "end_time": "2023-09-29T09:49:04.009727Z",
     "start_time": "2023-09-29T09:49:03.842341Z"
    }
   },
   "id": "ba95c03fdb412f9c"
  },
  {
   "cell_type": "code",
   "execution_count": 3,
   "outputs": [],
   "source": [
    "run = Flow(\"ClassifierTrainFlow\").latest_run"
   ],
   "metadata": {
    "collapsed": false,
    "ExecuteTime": {
     "end_time": "2023-09-29T09:49:04.786274Z",
     "start_time": "2023-09-29T09:49:04.770702Z"
    }
   },
   "id": "5fc112d4be0f51aa"
  },
  {
   "cell_type": "code",
   "execution_count": 4,
   "outputs": [
    {
     "data": {
      "text/plain": "Run('ClassifierTrainFlow/1695305990814542')"
     },
     "execution_count": 4,
     "metadata": {},
     "output_type": "execute_result"
    }
   ],
   "source": [
    "run"
   ],
   "metadata": {
    "collapsed": false,
    "ExecuteTime": {
     "end_time": "2023-09-29T09:49:20.749669Z",
     "start_time": "2023-09-29T09:49:20.720549Z"
    }
   },
   "id": "5a268091109dc275"
  },
  {
   "cell_type": "code",
   "execution_count": 6,
   "outputs": [
    {
     "data": {
      "text/plain": "[Step('ClassifierTrainFlow/1695305990814542/end'),\n Step('ClassifierTrainFlow/1695305990814542/start')]"
     },
     "execution_count": 6,
     "metadata": {},
     "output_type": "execute_result"
    }
   ],
   "source": [
    "list(run.steps())"
   ],
   "metadata": {
    "collapsed": false,
    "ExecuteTime": {
     "end_time": "2023-09-29T09:49:38.757519Z",
     "start_time": "2023-09-29T09:49:38.740456Z"
    }
   },
   "id": "afc6b86f457c4658"
  },
  {
   "cell_type": "code",
   "execution_count": 7,
   "outputs": [
    {
     "data": {
      "text/plain": "array([[1.369e+01, 3.260e+00, 2.540e+00, ..., 9.600e-01, 1.820e+00,\n        6.800e+02],\n       [1.269e+01, 1.530e+00, 2.260e+00, ..., 9.600e-01, 2.060e+00,\n        4.950e+02],\n       [1.162e+01, 1.990e+00, 2.280e+00, ..., 1.160e+00, 2.960e+00,\n        3.450e+02],\n       ...,\n       [1.242e+01, 1.610e+00, 2.190e+00, ..., 1.060e+00, 2.960e+00,\n        3.450e+02],\n       [1.390e+01, 1.680e+00, 2.120e+00, ..., 9.100e-01, 3.330e+00,\n        9.850e+02],\n       [1.416e+01, 2.510e+00, 2.480e+00, ..., 6.200e-01, 1.710e+00,\n        6.600e+02]])"
     },
     "execution_count": 7,
     "metadata": {},
     "output_type": "execute_result"
    }
   ],
   "source": [
    "run[\"start\"].task.data.train_data"
   ],
   "metadata": {
    "collapsed": false,
    "ExecuteTime": {
     "end_time": "2023-09-29T09:49:58.353956Z",
     "start_time": "2023-09-29T09:49:58.136880Z"
    }
   },
   "id": "c033e9efe7c44d5d"
  },
  {
   "cell_type": "code",
   "execution_count": 8,
   "outputs": [
    {
     "data": {
      "text/plain": "array([2, 1, 1, 2, 0, 0, 1, 1, 1, 0, 2, 1, 2, 0, 2, 2, 0, 2, 0, 1, 2, 2,\n       1, 2, 2, 0, 1, 2, 1, 1, 2, 1, 0, 1, 1, 1, 0, 0, 1, 1, 2, 2, 1, 1,\n       1, 2, 2, 0, 2, 1, 1, 1, 1, 1, 0, 0, 1, 0, 2, 0, 2, 0, 0, 1, 0, 1,\n       1, 0, 2, 1, 0, 1, 1, 1, 2, 0, 2, 2, 0, 0, 1, 2, 0, 0, 1, 1, 0, 0,\n       0, 2, 1, 0, 1, 2, 0, 1, 2, 2, 0, 0, 2, 0, 2, 1, 0, 0, 1, 0, 2, 1,\n       2, 0, 2, 2, 2, 0, 1, 1, 1, 1, 2, 2, 1, 1, 0, 1, 2, 2, 0, 0, 2, 1,\n       1, 1, 0, 0, 0, 1, 1, 1, 0, 2])"
     },
     "execution_count": 8,
     "metadata": {},
     "output_type": "execute_result"
    }
   ],
   "source": [
    "run[\"start\"].task.data.train_labels"
   ],
   "metadata": {
    "collapsed": false,
    "ExecuteTime": {
     "end_time": "2023-09-29T09:50:48.967974Z",
     "start_time": "2023-09-29T09:50:48.941956Z"
    }
   },
   "id": "eafa653e3fecbed2"
  },
  {
   "cell_type": "code",
   "execution_count": 9,
   "outputs": [
    {
     "data": {
      "text/plain": "'nothingburger'"
     },
     "execution_count": 9,
     "metadata": {},
     "output_type": "execute_result"
    }
   ],
   "source": [
    "run[\"end\"].task.data.model"
   ],
   "metadata": {
    "collapsed": false,
    "ExecuteTime": {
     "end_time": "2023-09-29T09:50:58.660433Z",
     "start_time": "2023-09-29T09:50:58.640153Z"
    }
   },
   "id": "b4d9b53c8f5e285b"
  },
  {
   "cell_type": "code",
   "execution_count": 13,
   "outputs": [],
   "source": [
    "run[\"end\"].task.data.model = run[\"end\"].task.data.model + \"_hello\""
   ],
   "metadata": {
    "collapsed": false,
    "ExecuteTime": {
     "end_time": "2023-09-29T09:51:46.120040Z",
     "start_time": "2023-09-29T09:51:46.097795Z"
    }
   },
   "id": "42b5b31481190f3c"
  },
  {
   "cell_type": "code",
   "execution_count": 14,
   "outputs": [
    {
     "data": {
      "text/plain": "'nothingburger'"
     },
     "execution_count": 14,
     "metadata": {},
     "output_type": "execute_result"
    }
   ],
   "source": [
    "run[\"end\"].task.data.model"
   ],
   "metadata": {
    "collapsed": false,
    "ExecuteTime": {
     "end_time": "2023-09-29T09:51:46.546609Z",
     "start_time": "2023-09-29T09:51:46.533685Z"
    }
   },
   "id": "d596a48e91a18c29"
  },
  {
   "cell_type": "code",
   "execution_count": 15,
   "outputs": [
    {
     "data": {
      "text/plain": "'nothingburger_hello'"
     },
     "execution_count": 15,
     "metadata": {},
     "output_type": "execute_result"
    }
   ],
   "source": [
    "run[\"end\"].task.data.model + \"_hello\""
   ],
   "metadata": {
    "collapsed": false,
    "ExecuteTime": {
     "end_time": "2023-09-29T09:51:47.460499Z",
     "start_time": "2023-09-29T09:51:47.442565Z"
    }
   },
   "id": "93ab87795abb5f28"
  },
  {
   "cell_type": "code",
   "execution_count": null,
   "outputs": [],
   "source": [],
   "metadata": {
    "collapsed": false
   },
   "id": "b8dc91fd4c8e7ec1"
  }
 ],
 "metadata": {
  "kernelspec": {
   "display_name": "Python 3",
   "language": "python",
   "name": "python3"
  },
  "language_info": {
   "codemirror_mode": {
    "name": "ipython",
    "version": 2
   },
   "file_extension": ".py",
   "mimetype": "text/x-python",
   "name": "python",
   "nbconvert_exporter": "python",
   "pygments_lexer": "ipython2",
   "version": "2.7.6"
  }
 },
 "nbformat": 4,
 "nbformat_minor": 5
}
