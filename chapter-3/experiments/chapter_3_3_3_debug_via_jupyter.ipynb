{
 "cells": [
  {
   "cell_type": "code",
   "execution_count": 1,
   "id": "initial_id",
   "metadata": {
    "collapsed": true,
    "ExecuteTime": {
     "end_time": "2023-09-29T10:19:19.433441Z",
     "start_time": "2023-09-29T10:19:19.423354Z"
    }
   },
   "outputs": [],
   "source": [
    "%load_ext autoreload\n",
    "%autoreload 2"
   ]
  },
  {
   "cell_type": "code",
   "execution_count": 2,
   "outputs": [],
   "source": [
    "from metaflow import Flow"
   ],
   "metadata": {
    "collapsed": false,
    "ExecuteTime": {
     "end_time": "2023-09-29T10:19:19.912404Z",
     "start_time": "2023-09-29T10:19:19.758968Z"
    }
   },
   "id": "9564403a40767602"
  },
  {
   "cell_type": "code",
   "execution_count": 4,
   "outputs": [
    {
     "name": "stdout",
     "output_type": "stream",
     "text": [
      "Task FullClassifierTrainFlow/1695982539952756/train_svm/3 failed.\n",
      "--- Stdout ---\n",
      "[KILLED BY ORCHESTRATOR]\n",
      "\n",
      "--- Stderr ---\n",
      "[KILLED BY ORCHESTRATOR]\n",
      "\n",
      "Aborted!\n",
      "Task failed.\n"
     ]
    }
   ],
   "source": [
    "for step in Flow(\"FullClassifierTrainFlow\").latest_run:\n",
    "    for task in step:\n",
    "        if not task.successful:\n",
    "            print(f\"Task {task.pathspec} failed.\")\n",
    "            print(\"--- Stdout ---\")\n",
    "            print(task.stdout)\n",
    "            print(\"--- Stderr ---\")\n",
    "            print(task.stderr)"
   ],
   "metadata": {
    "collapsed": false,
    "ExecuteTime": {
     "end_time": "2023-09-29T10:21:29.787595Z",
     "start_time": "2023-09-29T10:21:29.753845Z"
    }
   },
   "id": "5626966facdd854"
  },
  {
   "cell_type": "code",
   "execution_count": null,
   "outputs": [],
   "source": [],
   "metadata": {
    "collapsed": false
   },
   "id": "5cccfd03b0324847"
  }
 ],
 "metadata": {
  "kernelspec": {
   "display_name": "Python 3",
   "language": "python",
   "name": "python3"
  },
  "language_info": {
   "codemirror_mode": {
    "name": "ipython",
    "version": 2
   },
   "file_extension": ".py",
   "mimetype": "text/x-python",
   "name": "python",
   "nbconvert_exporter": "python",
   "pygments_lexer": "ipython2",
   "version": "2.7.6"
  }
 },
 "nbformat": 4,
 "nbformat_minor": 5
}
